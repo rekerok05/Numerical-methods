{
 "cells": [
  {
   "cell_type": "code",
   "execution_count": 1,
   "metadata": {
    "pycharm": {
     "name": "#%%\n"
    }
   },
   "outputs": [
    {
     "name": "stdout",
     "output_type": "stream",
     "text": [
      "\n",
      "Численное решение с помощью метода R - К, r = 1\n",
      "Вычисления для задачи Коши z1(x), z2(x)\n",
      "x_i = 0.5\t\tz1_xi = 0.0\t\tz2_xi = 0.5\n",
      "x_i = 0.6000000000000001\t\tz1_xi = 0.17777777777777778\t\tz2_xi = 1.5\n",
      "x_i = 0.7000000000000001\t\tz1_xi = 0.40336806863360536\t\tz2_xi = 2.7733333333333334\n",
      "x_i = 0.8\t\tz1_xi = 0.6629880786450109\t\tz2_xi = 4.253846874679899\n",
      "x_i = 0.9\t\tz1_xi = 0.9362949305788748\t\tz2_xi = 5.835283616720464\n",
      "x_i = 1.0\t\tz1_xi = 1.1990444054531424\t\tz2_xi = 7.385658662442478\n",
      "\n",
      "Вычисления для задачи Коши y(x)\n",
      "x_i = 0.5\t\ty_xi = -3.96475319411425\n",
      "x_i = 0.6000000000000001\t\ty_xi = -3.883798500795051\n",
      "x_i = 0.7000000000000001\t\ty_xi = -3.7580530265770222\n",
      "x_i = 0.8\t\ty_xi = -3.569309289931157\n",
      "x_i = 0.9\t\ty_xi = -3.2942167749174174\n",
      "x_i = 1.0\t\ty_xi = -2.9038334317431067\n",
      "\n",
      "Проверка:\n",
      "|0 * -3.96475319411425 + 1 * 0.8095469331919913 - 0.5| = 0.30954693319199134\n",
      "|1 * -2.9038334317431067 + 1 * 3.9038334317431067 - 1| = 0.0\n"
     ]
    }
   ],
   "source": [
    "import numpy as np\n",
    "\n",
    "alfa0 = 0\n",
    "alfa1 = 1\n",
    "beta0 = 1\n",
    "beta1 = 1\n",
    "gamma0 = 0.5\n",
    "gamma1 = 1\n",
    "t1 = 1\n",
    "t2 = 2\n",
    "\n",
    "\n",
    "def p(x):\n",
    "    return -2 / x\n",
    "\n",
    "\n",
    "def q(x):\n",
    "    return 4 / (x ** 2 + 2)\n",
    "\n",
    "\n",
    "def f(x):\n",
    "    return 8\n",
    "\n",
    "\n",
    "def f_z1(x, z1):\n",
    "    return -z1 * z1 - p(x) * z1 + q(x)\n",
    "\n",
    "\n",
    "def f_z2(x, z1, z2):\n",
    "    return -z1 * z2 - p(x) * z2 + f(x)\n",
    "\n",
    "\n",
    "def f_y(z1, z2, y):\n",
    "    return z1 * y + z2\n",
    "\n",
    "\n",
    "print(\"\\nЧисленное решение с помощью метода R - К, r = 1\")\n",
    "\n",
    "h = 0.1\n",
    "x1_list = np.arange(5, 11, 1)\n",
    "# начальные условия\n",
    "x = 0.5\n",
    "z1 = -alfa0 / beta0\n",
    "z1_list = [z1]\n",
    "z2 = gamma0 / beta0\n",
    "z2_list = [z2]\n",
    "for i in x1_list[1:]:\n",
    "    z1_new = z1 + h * f_z1(x, z1)\n",
    "    z2_new = z2 + h * f_z2(x, z1, z2)\n",
    "    z1_list.append(z1_new)\n",
    "    z2_list.append(z2_new)\n",
    "    z1 = z1_new\n",
    "    z2 = z2_new\n",
    "    x = i * 0.1\n",
    "\n",
    "print(f\"Вычисления для задачи Коши z1(x), z2(x)\")\n",
    "for i in zip(x1_list, z1_list, z2_list):\n",
    "    print(f\"x_i = {i[0] * 0.1}\\t\\tz1_xi = {i[1]}\\t\\tz2_xi = {i[2]}\")\n",
    "print()\n",
    "\n",
    "x2_list = np.arange(10, 4, -1)\n",
    "# начальные условия\n",
    "x = 1\n",
    "y = (gamma1 - beta1 * z2_list[-1]) / (alfa1 + beta1 * z1_list[-1])\n",
    "y_list = [y]\n",
    "for i in x2_list[1:]:\n",
    "    y_new = y - h * f_y(z1_list[i - 10], z2_list[i - 10], y)\n",
    "    y_list.append(y_new)\n",
    "    y = y_new\n",
    "\n",
    "y_list.reverse()  # от 0.5 до 1\n",
    "print(f\"Вычисления для задачи Коши y(x)\")\n",
    "for i in zip(range(5, 11, 1), y_list):\n",
    "    print(f\"x_i = {i[0] * 0.1}\\t\\ty_xi = {i[1]}\")\n",
    "print()\n",
    "\n",
    "# проверка\n",
    "\n",
    "y_dif_a = (y_list[1] - y_list[0]) / h\n",
    "y_dif_b = (y_list[-1] - y_list[-2]) / h\n",
    "\n",
    "print(\"Проверка:\")\n",
    "print(f\"|{alfa0} * {y_list[0]} + {beta0} * {y_dif_a} - {gamma0}| = {abs(alfa0 * y_list[0] + beta0 * y_dif_a - gamma0)}\")\n",
    "print(\n",
    "    f\"|{alfa1} * {y_list[-1]} + {beta1} * {y_dif_b} - {gamma1}| = {abs(alfa1 * y_list[-1] + beta1 * y_dif_b - gamma1)}\")\n"
   ]
  },
  {
   "cell_type": "code",
   "execution_count": 2,
   "metadata": {
    "pycharm": {
     "name": "#%%\n"
    }
   },
   "outputs": [
    {
     "data": {
      "text/plain": "     x     z1(x)     z2(z)      y(x)\n0  0.5  0.000000  0.500000 -3.964753\n1  0.6  0.177778  1.500000 -3.883799\n2  0.7  0.403368  2.773333 -3.758053\n3  0.8  0.662988  4.253847 -3.569309\n4  0.9  0.936295  5.835284 -3.294217\n5  1.0  1.199044  7.385659 -2.903833",
      "text/html": "<div>\n<style scoped>\n    .dataframe tbody tr th:only-of-type {\n        vertical-align: middle;\n    }\n\n    .dataframe tbody tr th {\n        vertical-align: top;\n    }\n\n    .dataframe thead th {\n        text-align: right;\n    }\n</style>\n<table border=\"1\" class=\"dataframe\">\n  <thead>\n    <tr style=\"text-align: right;\">\n      <th></th>\n      <th>x</th>\n      <th>z1(x)</th>\n      <th>z2(z)</th>\n      <th>y(x)</th>\n    </tr>\n  </thead>\n  <tbody>\n    <tr>\n      <th>0</th>\n      <td>0.5</td>\n      <td>0.000000</td>\n      <td>0.500000</td>\n      <td>-3.964753</td>\n    </tr>\n    <tr>\n      <th>1</th>\n      <td>0.6</td>\n      <td>0.177778</td>\n      <td>1.500000</td>\n      <td>-3.883799</td>\n    </tr>\n    <tr>\n      <th>2</th>\n      <td>0.7</td>\n      <td>0.403368</td>\n      <td>2.773333</td>\n      <td>-3.758053</td>\n    </tr>\n    <tr>\n      <th>3</th>\n      <td>0.8</td>\n      <td>0.662988</td>\n      <td>4.253847</td>\n      <td>-3.569309</td>\n    </tr>\n    <tr>\n      <th>4</th>\n      <td>0.9</td>\n      <td>0.936295</td>\n      <td>5.835284</td>\n      <td>-3.294217</td>\n    </tr>\n    <tr>\n      <th>5</th>\n      <td>1.0</td>\n      <td>1.199044</td>\n      <td>7.385659</td>\n      <td>-2.903833</td>\n    </tr>\n  </tbody>\n</table>\n</div>"
     },
     "execution_count": 2,
     "metadata": {},
     "output_type": "execute_result"
    }
   ],
   "source": [
    "import pandas as pd\n",
    "\n",
    "table = pd.DataFrame({\n",
    "    'x': [x1_list[0] * 0.1, x1_list[1] * 0.1, x1_list[2] * 0.1, x1_list[3] * 0.1, x1_list[4] * 0.1, x1_list[5] * 0.1],\n",
    "    \"z1(x)\": [z1_list[0], z1_list[1], z1_list[2], z1_list[3], z1_list[4], z1_list[5]],\n",
    "    \"z2(z)\": [z2_list[0], z2_list[1], z2_list[2], z2_list[3], z2_list[4], z2_list[5]],\n",
    "    \"y(x)\": [y_list[0], y_list[1], y_list[2], y_list[3], y_list[4], y_list[5]],\n",
    "})\n",
    "table"
   ]
  }
 ],
 "metadata": {
  "kernelspec": {
   "display_name": "venv",
   "language": "python",
   "name": "python3"
  },
  "language_info": {
   "codemirror_mode": {
    "name": "ipython",
    "version": 3
   },
   "file_extension": ".py",
   "mimetype": "text/x-python",
   "name": "python",
   "nbconvert_exporter": "python",
   "pygments_lexer": "ipython3",
   "version": "3.10.9"
  },
  "orig_nbformat": 4
 },
 "nbformat": 4,
 "nbformat_minor": 2
}