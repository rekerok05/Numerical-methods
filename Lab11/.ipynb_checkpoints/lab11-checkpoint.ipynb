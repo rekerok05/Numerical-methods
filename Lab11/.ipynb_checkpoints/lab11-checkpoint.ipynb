{
 "cells": [
  {
   "cell_type": "code",
   "execution_count": 1,
   "metadata": {
    "pycharm": {
     "name": "#%%\n"
    }
   },
   "outputs": [],
   "source": [
    "import numpy as np\n",
    "\n",
    "def f_s(y, t, a=2):\n",
    "    dydt = a * y - pow(t, 2)\n",
    "    return dydt\n",
    "\n",
    "\n",
    "def f_z(z, t, a=2):\n",
    "    dzdt = -z + a * t\n",
    "    return dzdt"
   ]
  },
  {
   "cell_type": "markdown",
   "metadata": {
    "pycharm": {
     "name": "#%% md\n"
    }
   },
   "source": [
    "# Численное решение с помощью метода R - К, r = 1"
   ]
  },
  {
   "cell_type": "code",
   "execution_count": 2,
   "metadata": {
    "pycharm": {
     "name": "#%%\n"
    }
   },
   "outputs": [
    {
     "name": "stdout",
     "output_type": "stream",
     "text": [
      "x_i = 0.0\ty_xi = 1\n",
      "x_i = 0.1\ty_xi = 1.2\n",
      "x_i = 0.2\ty_xi = 1.439\n",
      "x_i = 0.30000000000000004\ty_xi = 1.7228\n",
      "x_i = 0.4\ty_xi = 2.0583600000000004\n",
      "x_i = 0.5\ty_xi = 2.4540320000000007\n",
      "\n",
      "x_i = 0.5\tz_xi = 2.4540320000000007\n",
      "x_i = 0.4\tz_xi = 2.5994352000000007\n",
      "x_i = 0.30000000000000004\tz_xi = 2.779378720000001\n",
      "x_i = 0.2\tz_xi = 2.997316592000001\n",
      "x_i = 0.1\tz_xi = 3.2570482512000014\n",
      "x_i = 0.0\tz_xi = 3.5627530763200017\n"
     ]
    }
   ],
   "source": [
    "y = list\n",
    "h = 0.1\n",
    "x_list = np.arange(0, 0.6, h)\n",
    "x = 0\n",
    "y = 1\n",
    "y_list = [y]\n",
    "for i in x_list[1:]:\n",
    "    y_new = y + h * f_s(y, x)\n",
    "    y_list.append(y_new)\n",
    "    y = y_new\n",
    "    x = i\n",
    "for i in zip(x_list, y_list):\n",
    "    print(f\"x_i = {i[0]}\\ty_xi = {i[1]}\")\n",
    "print()\n",
    "z = y_list[len(y_list) - 1]\n",
    "h = -h\n",
    "z_list = [z]\n",
    "for i in np.flip(x_list)[1:]:\n",
    "    z_new = z + h * f_z(z, x)\n",
    "    z_list.append(z_new)\n",
    "    z = z_new\n",
    "    x = i\n",
    "\n",
    "for i in zip(np.flip(x_list), z_list):\n",
    "    print(f\"x_i = {i[0]}\\tz_xi = {i[1]}\")"
   ]
  },
  {
   "cell_type": "markdown",
   "metadata": {
    "pycharm": {
     "name": "#%% md\n"
    }
   },
   "source": [
    "# Численное решение с помощью метода R - К, r = 2"
   ]
  },
  {
   "cell_type": "code",
   "execution_count": 3,
   "metadata": {
    "pycharm": {
     "name": "#%%\n"
    }
   },
   "outputs": [
    {
     "name": "stdout",
     "output_type": "stream",
     "text": [
      "x_i = 0.0\ty_xi = 1\n",
      "x_i = 0.1\ty_xi = 1.2195\n",
      "x_i = 0.2\ty_xi = 1.48519\n",
      "x_i = 0.30000000000000004\ty_xi = 1.8050318\n",
      "x_i = 0.4\ty_xi = 2.188738796\n",
      "x_i = 0.5\ty_xi = 2.64816133112\n",
      "\n",
      "x_i = 0.5\tz_xi = 2.64816133112\n",
      "x_i = 0.4\tz_xi = 2.8312182708875997\n",
      "x_i = 0.30000000000000004\tz_xi = 3.0544961893307976\n",
      "x_i = 0.2\tz_xi = 3.3222182892105314\n",
      "x_i = 0.1\tz_xi = 3.6390512095776373\n",
      "x_i = 0.0\tz_xi = 4.010151586583289\n"
     ]
    }
   ],
   "source": [
    "h = -h\n",
    "y = y_list[0]\n",
    "y_tilda = y_list[0] + h * f_s(y, x)\n",
    "y_list = [y]\n",
    "for i in x_list[1:]:\n",
    "    y_new = y + (h / 2) * (f_s(y, x) + f_s(y_tilda, x + h))\n",
    "    y_tilda = y_new + h * f_s(y_new, x + h)\n",
    "    y_list.append(y_new)\n",
    "    x = i\n",
    "    y = y_new\n",
    "for i in zip(x_list, y_list):\n",
    "    print(f\"x_i = {i[0]}\\ty_xi = {i[1]}\")\n",
    "print()\n",
    "\n",
    "z = y_list[len(y_list) - 1]\n",
    "h = -h\n",
    "z_tilda = z + h * f_z(z, x)\n",
    "z_list = [z]\n",
    "for i in np.flip(x_list)[1:]:\n",
    "    z_new = z + (h / 2) * (f_z(z, x) + f_z(z_tilda, x + h))\n",
    "    z_tilda = z_new + h * f_z(z_new, x + h)\n",
    "    z_list.append(z_new)\n",
    "    x = i\n",
    "    z = z_new\n",
    "\n",
    "for i in zip(np.flip(x_list), z_list):\n",
    "    print(f\"x_i = {i[0]}\\tz_xi = {i[1]}\")"
   ]
  },
  {
   "cell_type": "markdown",
   "metadata": {
    "pycharm": {
     "name": "#%% md\n"
    }
   },
   "source": [
    "# Численное решение с помощью метода R - К, r = 4"
   ]
  },
  {
   "cell_type": "code",
   "execution_count": 4,
   "metadata": {
    "pycharm": {
     "name": "#%%\n"
    }
   },
   "outputs": [
    {
     "name": "stdout",
     "output_type": "stream",
     "text": [
      "x_i = 0.0\ty_xi = 1\n",
      "x_i = 0.1\ty_xi = 1.2210491666666667\n",
      "x_i = 0.2\ty_xi = 1.4888616188333335\n",
      "x_i = 0.30000000000000004\ty_xi = 1.8115767479097\n",
      "x_i = 0.4\ty_xi = 2.1991360065635743\n",
      "x_i = 0.5\ty_xi = 2.6636818850834163\n",
      "\n",
      "x_i = 0.5\tz_xi = 2.6636818850834163\n",
      "x_i = 0.4\tz_xi = 2.8489943620058766\n",
      "x_i = 0.30000000000000004\tz_xi = 3.074830473220003\n",
      "x_i = 0.2\tz_xi = 3.345452123113945\n",
      "x_i = 0.1\tz_xi = 3.6655694441119415\n",
      "x_i = 0.0\tz_xi = 4.040387937190398\n"
     ]
    }
   ],
   "source": [
    "h = -h\n",
    "y = y_list[0]\n",
    "k1 = h * f_s(y, x)\n",
    "k2 = h * f_s(y + k1 / 2, x + h / 2)\n",
    "k3 = h * f_s(y + k2 / 2, x + h / 2)\n",
    "k4 = h * f_s(y + k3, x + h)\n",
    "y_list = [y]\n",
    "for i in x_list[1:]:\n",
    "    y_new = y + (1 / 6) * (k1 + 2 * k2 + 2 * k3 + k4)\n",
    "    y_list.append(y_new)\n",
    "    y = y_new\n",
    "    x = i\n",
    "    k1 = h * f_s(y, x)\n",
    "    k2 = h * f_s(y + k1 / 2, x + h / 2)\n",
    "    k3 = h * f_s(y + k2 / 2, x + h / 2)\n",
    "    k4 = h * f_s(y + k3, x + h)\n",
    "for i in zip(x_list, y_list):\n",
    "    print(f\"x_i = {i[0]}\\ty_xi = {i[1]}\")\n",
    "print()\n",
    "\n",
    "z = y_list[len(y_list) - 1]\n",
    "z_list = [z]\n",
    "h = -h\n",
    "k1 = h * f_z(z, x)\n",
    "k2 = h * f_z(z + k1 / 2, x + h / 2)\n",
    "k3 = h * f_z(z + k2 / 2, x + h / 2)\n",
    "k4 = h * f_z(z + k3, x + h)\n",
    "for i in np.flip(x_list)[1:]:\n",
    "    z_new = z + (1 / 6) * (k1 + 2 * k2 + 2 * k3 + k4)\n",
    "    z_list.append(z_new)\n",
    "    z = z_new\n",
    "    x = i\n",
    "    k1 = h * f_z(z, x)\n",
    "    k2 = h * f_z(z + k1 / 2, x + h / 2)\n",
    "    k3 = h * f_z(z + k2 / 2, x + h / 2)\n",
    "    k4 = h * f_z(z + k3, x + h)\n",
    "\n",
    "for i in zip(np.flip(x_list), z_list):\n",
    "    print(f\"x_i = {i[0]}\\tz_xi = {i[1]}\")"
   ]
  }
 ],
 "metadata": {
  "kernelspec": {
   "display_name": "Python 3 (ipykernel)",
   "language": "python",
   "name": "python3"
  },
  "language_info": {
   "codemirror_mode": {
    "name": "ipython",
    "version": 3
   },
   "file_extension": ".py",
   "mimetype": "text/x-python",
   "name": "python",
   "nbconvert_exporter": "python",
   "pygments_lexer": "ipython3",
   "version": "3.10.9"
  },
  "vscode": {
   "interpreter": {
    "hash": "5c7b89af1651d0b8571dde13640ecdccf7d5a6204171d6ab33e7c296e100e08a"
   }
  }
 },
 "nbformat": 4,
 "nbformat_minor": 1
}
