{
 "cells": [
  {
   "cell_type": "code",
   "execution_count": 83,
   "metadata": {
    "collapsed": true,
    "pycharm": {
     "name": "#%%\n"
    }
   },
   "outputs": [],
   "source": [
    "import numpy as np\n",
    "import pandas as pd\n",
    "\n",
    "\n",
    "def f_s(x, y):\n",
    "    dydt = 1 / (np.power(x, 2) + np.power(y, 2) + 3)\n",
    "    return dydt"
   ]
  },
  {
   "cell_type": "code",
   "execution_count": 84,
   "outputs": [
    {
     "name": "stdout",
     "output_type": "stream",
     "text": [
      "\n",
      "Численное решение с помощью метода R - К, r = 4\n",
      "x_i = 0.0\ty_xi = 0\t\n",
      "x_i = 0.1\ty_xi = 0.03329228170641387\t\n",
      "x_i = 0.2\ty_xi = 0.06634054010459103\t\n",
      "x_i = 0.30000000000000004\ty_xi = 0.09891199117423011\t\n",
      "x_i = 0.4\ty_xi = 0.13079501537405305\t\n",
      "x_i = 0.5\ty_xi = 0.1618067396258454\t\n",
      "x_i = 0.6000000000000001\ty_xi = 0.19179771990688643\t\n",
      "x_i = 0.7000000000000001\ty_xi = 0.220653681533919\t\n"
     ]
    },
    {
     "data": {
      "text/plain": "array([0. , 0.1, 0.2, 0.3, 0.4, 0.5, 0.6, 0.7])"
     },
     "execution_count": 84,
     "metadata": {},
     "output_type": "execute_result"
    }
   ],
   "source": [
    "print(\"\\nЧисленное решение с помощью метода R - К, r = 4\")\n",
    "h = 0.1\n",
    "x_list = np.arange(0, 0.8, h)\n",
    "y = 0\n",
    "x = 0\n",
    "h = 0.1\n",
    "k1 = h * f_s(x, y)\n",
    "k2 = h * f_s(x + h / 2, y + k1 / 2)\n",
    "k3 = h * f_s(x + h / 2, y + k2 / 2)\n",
    "k4 = h * f_s(x + h, y + k3)\n",
    "y_list = [y]\n",
    "for i in x_list[1:]:\n",
    "    y_new = y + (1 / 6) * (k1 + 2 * k2 + 2 * k3 + k4)\n",
    "    y_list.append(y_new)\n",
    "    y = y_new\n",
    "    x = i\n",
    "    k1 = h * f_s(x, y)\n",
    "    k2 = h * f_s(x + h / 2, y + k1 / 2)\n",
    "    k3 = h * f_s(x + h / 2, y + k2 / 2)\n",
    "    k4 = h * f_s(x + h, y + k3)\n",
    "for i in zip(x_list, y_list):\n",
    "    print(f\"x_i = {i[0]}\\ty_xi = {i[1]}\\t\")\n",
    "x_list"
   ],
   "metadata": {
    "collapsed": false,
    "pycharm": {
     "name": "#%%\n"
    }
   }
  },
  {
   "cell_type": "code",
   "execution_count": 85,
   "outputs": [
    {
     "name": "stdout",
     "output_type": "stream",
     "text": [
      "      x         y         η   delta η  delta^2 η  delta^3 η     delta^4 η\n",
      "0   0.0  0.000000  0.033333 -0.000123  -0.000240   0.000017  8.889579e-06\n",
      "1   0.1  0.033292  0.033210 -0.000363  -0.000224   0.000025  6.178355e-06\n",
      "2   0.2  0.066341  0.032847 -0.000587  -0.000198   0.000032  6.181204e-06\n",
      "3   0.3  0.098912  0.032260 -0.000785  -0.000167   0.000032  3.174957e-06\n",
      "4   0.4  0.130795  0.031475 -0.000952  -0.000167   0.000035  3.178441e-06\n",
      "5   0.5  0.161808  0.030523 -0.000952  -0.000132   0.000035  3.643792e-07\n",
      "6   0.5  0.161807  0.030523 -0.001084  -0.000132   0.000035  3.678365e-07\n",
      "7   0.6  0.191799  0.029440 -0.001084  -0.000097   0.000035  0.000000e+00\n",
      "8   0.6  0.191798  0.029440 -0.001181  -0.000097   0.000000  0.000000e+00\n",
      "9   0.7  0.220655  0.028259 -0.001181   0.000000   0.000000  0.000000e+00\n",
      "10  0.7  0.220654  0.028259  0.000000   0.000000   0.000000  0.000000e+00\n"
     ]
    },
    {
     "name": "stderr",
     "output_type": "stream",
     "text": [
      "/var/folders/_b/nm4gbr9n2r94qd869swcq2n80000gn/T/ipykernel_9212/249801963.py:25: SettingWithCopyWarning: \n",
      "A value is trying to be set on a copy of a slice from a DataFrame\n",
      "\n",
      "See the caveats in the documentation: https://pandas.pydata.org/pandas-docs/stable/user_guide/indexing.html#returning-a-view-versus-a-copy\n",
      "  table[\"delta η\"][0] = table[\"η\"][1] - table[\"η\"][0]\n",
      "/var/folders/_b/nm4gbr9n2r94qd869swcq2n80000gn/T/ipykernel_9212/249801963.py:30: SettingWithCopyWarning: \n",
      "A value is trying to be set on a copy of a slice from a DataFrame\n",
      "\n",
      "See the caveats in the documentation: https://pandas.pydata.org/pandas-docs/stable/user_guide/indexing.html#returning-a-view-versus-a-copy\n",
      "  table[\"delta^2 η\"][0] = table[\"delta η\"][1] - table[\"delta η\"][0]\n",
      "/var/folders/_b/nm4gbr9n2r94qd869swcq2n80000gn/T/ipykernel_9212/249801963.py:34: SettingWithCopyWarning: \n",
      "A value is trying to be set on a copy of a slice from a DataFrame\n",
      "\n",
      "See the caveats in the documentation: https://pandas.pydata.org/pandas-docs/stable/user_guide/indexing.html#returning-a-view-versus-a-copy\n",
      "  table[\"delta^3 η\"][0] = table[\"delta^2 η\"][1] - table[\"delta^2 η\"][0]\n",
      "/var/folders/_b/nm4gbr9n2r94qd869swcq2n80000gn/T/ipykernel_9212/249801963.py:37: SettingWithCopyWarning: \n",
      "A value is trying to be set on a copy of a slice from a DataFrame\n",
      "\n",
      "See the caveats in the documentation: https://pandas.pydata.org/pandas-docs/stable/user_guide/indexing.html#returning-a-view-versus-a-copy\n",
      "  table[\"delta^4 η\"][0] = table[\"delta^3 η\"][1] - table[\"delta^3 η\"][0]\n"
     ]
    }
   ],
   "source": [
    "C1_1 = 1 / 2\n",
    "C2_1 = 5 / 12\n",
    "C3_1 = 3 / 8\n",
    "C4_1 = 251 / 720\n",
    "\n",
    "C1_2 = -1 / 2\n",
    "C2_2 = -1 / 12\n",
    "C3_2 = -1 / 24\n",
    "C4_2 = -19 / 720\n",
    "\n",
    "table = pd.DataFrame({\n",
    "    'x': [x_list[0], x_list[1], x_list[2], x_list[3], x_list[4], 0.5, 0.5, 0.6, 0.6, 0.7, 0.7],\n",
    "    'y': [y_list[0], y_list[1], y_list[2], y_list[3], y_list[4], 0, 0, 0, 0, 0, 0],\n",
    "    \"η\": [h * f_s(x_list[0], y_list[0]), h * f_s(x_list[1], y_list[1]), h * f_s(x_list[2], y_list[2]),\n",
    "          h * f_s(x_list[3], y_list[3]), h * f_s(x_list[4], y_list[4]), 0, 0, 0, 0, 0, 0],\n",
    "    \"delta η\": [0, 0, 0, 0, 0, 0, 0, 0, 0, 0, 0],\n",
    "    \"delta^2 η\": [0, 0, 0, 0, 0, 0, 0, 0, 0, 0, 0],\n",
    "    \"delta^3 η\": [0, 0, 0, 0, 0, 0, 0, 0, 0, 0, 0],\n",
    "    \"delta^4 η\": [0, 0, 0, 0, 0, 0, 0, 0, 0, 0, 0],\n",
    "})\n",
    "\n",
    "table[\"delta η\"][0] = table[\"η\"][1] - table[\"η\"][0]\n",
    "table[\"delta η\"][1] = table[\"η\"][2] - table[\"η\"][1]\n",
    "table[\"delta η\"][2] = table[\"η\"][3] - table[\"η\"][2]\n",
    "table[\"delta η\"][3] = table[\"η\"][4] - table[\"η\"][3]\n",
    "\n",
    "table[\"delta^2 η\"][0] = table[\"delta η\"][1] - table[\"delta η\"][0]\n",
    "table[\"delta^2 η\"][1] = table[\"delta η\"][2] - table[\"delta η\"][1]\n",
    "table[\"delta^2 η\"][2] = table[\"delta η\"][3] - table[\"delta η\"][2]\n",
    "\n",
    "table[\"delta^3 η\"][0] = table[\"delta^2 η\"][1] - table[\"delta^2 η\"][0]\n",
    "table[\"delta^3 η\"][1] = table[\"delta^2 η\"][2] - table[\"delta^2 η\"][1]\n",
    "\n",
    "table[\"delta^4 η\"][0] = table[\"delta^3 η\"][1] - table[\"delta^3 η\"][0]\n",
    "\n",
    "# ЭМА для x5, y5\n",
    "table[\"y\"][5] = table[\"y\"][4] + table[\"η\"][4] + C1_1 * table[\"delta η\"][3] + C2_1 * table[\"delta^2 η\"][2] + C3_1 * table[\"delta^3 η\"][1] + C4_1 * table[\"delta^4 η\"][0]\n",
    "table[\"η\"][5] = h * f_s(table[\"x\"][5], table[\"y\"][5])\n",
    "table[\"delta η\"][4] = table[\"η\"][5] - table[\"η\"][4]\n",
    "table[\"delta^2 η\"][3] = table[\"delta η\"][4] - table[\"delta η\"][3]\n",
    "table[\"delta^3 η\"][2] = table[\"delta^2 η\"][3] - table[\"delta^2 η\"][2]\n",
    "table[\"delta^4 η\"][1] = table[\"delta^3 η\"][2] - table[\"delta^3 η\"][1]\n",
    "\n",
    "# ИМА для x5, y5\n",
    "table[\"y\"][6] = table[\"y\"][4] + table[\"η\"][5] + C1_2 * table[\"delta η\"][4] + C2_2 * table[\"delta^2 η\"][3] + C3_2 * table[\"delta^3 η\"][2] + C4_2 * table[\"delta^4 η\"][1]\n",
    "table[\"η\"][6] = h * f_s(table[\"x\"][6], table[\"y\"][6])\n",
    "table[\"delta η\"][5] = table[\"η\"][6] - table[\"η\"][4]\n",
    "table[\"delta^2 η\"][4] = table[\"delta η\"][5] - table[\"delta η\"][3]\n",
    "table[\"delta^3 η\"][3] = table[\"delta^2 η\"][4] - table[\"delta^2 η\"][2]\n",
    "table[\"delta^4 η\"][2] = table[\"delta^3 η\"][3] - table[\"delta^3 η\"][1]\n",
    "\n",
    "# ЭМА для x6, y6\n",
    "table[\"y\"][7] = table[\"y\"][6] + table[\"η\"][6] + C1_1 * table[\"delta η\"][5] + C2_1 * table[\"delta^2 η\"][4] + C3_1 * table[\"delta^3 η\"][3] + C4_1 * table[\"delta^4 η\"][2]\n",
    "table[\"η\"][7] = h * f_s(table[\"x\"][7], table[\"y\"][7])\n",
    "table[\"delta η\"][6] = table[\"η\"][7] - table[\"η\"][6]\n",
    "table[\"delta^2 η\"][5] = table[\"delta η\"][6] - table[\"delta η\"][5]\n",
    "table[\"delta^3 η\"][4] = table[\"delta^2 η\"][5] - table[\"delta^2 η\"][4]\n",
    "table[\"delta^4 η\"][3] = table[\"delta^3 η\"][4] - table[\"delta^3 η\"][3]\n",
    "\n",
    "# ИМА для x6, y6\n",
    "table[\"y\"][8] = table[\"y\"][6] + table[\"η\"][7] + C1_2 * table[\"delta η\"][6] + C2_2 * table[\"delta^2 η\"][5] + C3_2 * table[\"delta^3 η\"][4] + C4_2 * table[\"delta^4 η\"][3]\n",
    "table[\"η\"][8] = h * f_s(table[\"x\"][8], table[\"y\"][8])\n",
    "table[\"delta η\"][7] = table[\"η\"][8] - table[\"η\"][6]\n",
    "table[\"delta^2 η\"][6] = table[\"delta η\"][7] - table[\"delta η\"][5]\n",
    "table[\"delta^3 η\"][5] = table[\"delta^2 η\"][6] - table[\"delta^2 η\"][4]\n",
    "table[\"delta^4 η\"][4] = table[\"delta^3 η\"][5] - table[\"delta^3 η\"][3]\n",
    "\n",
    "# ЭМА для x7, y7\n",
    "table[\"y\"][9] = table[\"y\"][8] + table[\"η\"][8] + C1_1 * table[\"delta η\"][7] + C2_1 * table[\"delta^2 η\"][6] + C3_1 * table[\"delta^3 η\"][5] + C4_1 * table[\"delta^4 η\"][4]\n",
    "table[\"η\"][9] = h * f_s(table[\"x\"][9], table[\"y\"][9])\n",
    "table[\"delta η\"][8] = table[\"η\"][9] - table[\"η\"][8]\n",
    "table[\"delta^2 η\"][7] = table[\"delta η\"][8] - table[\"delta η\"][7]\n",
    "table[\"delta^3 η\"][6] = table[\"delta^2 η\"][7] - table[\"delta^2 η\"][6]\n",
    "table[\"delta^4 η\"][5] = table[\"delta^3 η\"][6] - table[\"delta^3 η\"][5]\n",
    "\n",
    "# ИМА для x7, y7\n",
    "table[\"y\"][10] = table[\"y\"][8] + table[\"η\"][9] + C1_2 * table[\"delta η\"][8] + C2_2 * table[\"delta^2 η\"][7] + C3_2 * table[\"delta^3 η\"][6] + C4_2 * table[\"delta^4 η\"][5]\n",
    "table[\"η\"][10] = h * f_s(table[\"x\"][10], table[\"y\"][10])\n",
    "table[\"delta η\"][9] = table[\"η\"][10] - table[\"η\"][8]\n",
    "table[\"delta^2 η\"][8] = table[\"delta η\"][9] - table[\"delta η\"][7]\n",
    "table[\"delta^3 η\"][7] = table[\"delta^2 η\"][8] - table[\"delta^2 η\"][6]\n",
    "table[\"delta^4 η\"][6] = table[\"delta^3 η\"][7] - table[\"delta^3 η\"][5]\n",
    "\n",
    "print(table)\n",
    "\n"
   ],
   "metadata": {
    "collapsed": false,
    "pycharm": {
     "name": "#%%\n"
    }
   }
  },
  {
   "cell_type": "code",
   "execution_count": 86,
   "outputs": [
    {
     "name": "stdout",
     "output_type": "stream",
     "text": [
      "|y_5(R-K) - y_5(ИМА)|\t0.1618067396258454 - 0.1618066817619475 <= 5.7863897895416017e-08\n",
      "|y_6(R-K) - y_6(ИМА)|\t0.19179771990688643 - 0.19179760675894023 <= 1.1314794620687074e-07\n",
      "|y_7(R-K) - y_7(ИМА)|\t0.220653681533919 - 0.22065352291362963 <= 1.5862028937552175e-07\n"
     ]
    }
   ],
   "source": [
    "print(f\"|y_5(R-K) - y_5(ИМА)|\\t{y_list[5]} - {table['y'][6]} <= {np.abs(y_list[5] - table['y'][6])}\")\n",
    "print(f\"|y_6(R-K) - y_6(ИМА)|\\t{y_list[6]} - {table['y'][8]} <= {np.abs(y_list[6] - table['y'][8])}\")\n",
    "print(f\"|y_7(R-K) - y_7(ИМА)|\\t{y_list[7]} - {table['y'][10]} <= {np.abs(y_list[7] - table['y'][10])}\")"
   ],
   "metadata": {
    "collapsed": false,
    "pycharm": {
     "name": "#%%\n"
    }
   }
  }
 ],
 "metadata": {
  "kernelspec": {
   "display_name": "Python 3",
   "language": "python",
   "name": "python3"
  },
  "language_info": {
   "codemirror_mode": {
    "name": "ipython",
    "version": 2
   },
   "file_extension": ".py",
   "mimetype": "text/x-python",
   "name": "python",
   "nbconvert_exporter": "python",
   "pygments_lexer": "ipython2",
   "version": "2.7.6"
  }
 },
 "nbformat": 4,
 "nbformat_minor": 0
}